{
 "cells": [
  {
   "cell_type": "code",
   "execution_count": 169,
   "metadata": {},
   "outputs": [
    {
     "name": "stdout",
     "output_type": "stream",
     "text": [
      "Complete to make dictionary\n",
      "359966 30755\n"
     ]
    }
   ],
   "source": [
    "import numpy as np\n",
    "\n",
    "user2cnt = {}\n",
    "song2cnt = {}\n",
    "\n",
    "#song_extra_f = open(\"../../dataset/song_extra_info.csv\", \"r\")\n",
    "memb_f = open(\"../../dataset/members.csv\", \"r\")\n",
    "train_f = open(\"../../dataset/train.csv\", \"r\")\n",
    "\n",
    "lines = train_f.readlines()\n",
    "\n",
    "for i, line in enumerate(lines):\n",
    "    if i == 0:\n",
    "        continue\n",
    "\n",
    "    tokens = line.strip().split(',')\n",
    "    msno = tokens[0]\n",
    "    song_id = tokens[1]\n",
    "\n",
    "    if user2cnt.get(msno) == None:\n",
    "        user2cnt[msno] = [song_id] \n",
    "    else:\n",
    "        user2cnt.get(msno).append(song_id)\n",
    "\n",
    "    if song2cnt.get(song_id) == None:\n",
    "        song2cnt[song_id] = [msno] \n",
    "    else:\n",
    "        song2cnt.get(song_id).append(msno)\n",
    "print \"Complete to make dictionary\"\n",
    "print len(song2cnt), len(user2cnt)"
   ]
  },
  {
   "cell_type": "code",
   "execution_count": 170,
   "metadata": {},
   "outputs": [
    {
     "name": "stdout",
     "output_type": "stream",
     "text": [
      "Complete to remove items under the threshold\n",
      "2672 30755\n"
     ]
    }
   ],
   "source": [
    "user_thr = 0\n",
    "song_thr = 450\n",
    "\n",
    "while(1):\n",
    "    del_cnt = 0\n",
    "    for user, songs in user2cnt.items():\n",
    "        if len(songs) < user_thr:\n",
    "            for song in songs:\n",
    "                del song2cnt.get(song)[song2cnt.get(song).index(user)]\n",
    "                del_cnt += 1\n",
    "            del user2cnt[user]\n",
    "\n",
    "    for song, users in song2cnt.items():\n",
    "        if len(users) < song_thr:\n",
    "            for user in users:\n",
    "                del user2cnt.get(user)[user2cnt.get(user).index(song)]\n",
    "                del_cnt += 1\n",
    "            del song2cnt[song]\n",
    "\n",
    "    if del_cnt == 0:\n",
    "        break\n",
    "\n",
    "print \"Complete to remove items under the threshold\"\n",
    "print len(song2cnt), len(user2cnt)"
   ]
  },
  {
   "cell_type": "code",
   "execution_count": 171,
   "metadata": {},
   "outputs": [
    {
     "name": "stdout",
     "output_type": "stream",
     "text": [
      "Complete to make filtered_train.csv\n",
      "3732629\n"
     ]
    }
   ],
   "source": [
    "train_cnt = 0\n",
    "train_wf = open(\"../../dataset/450_train.csv\", 'w')\n",
    "for i, line in enumerate(lines):\n",
    "    if i == 0:\n",
    "        continue\n",
    "        #train_wf.write(line)\n",
    "\n",
    "    tokens = line.strip().split(',')\n",
    "    msno = tokens[0]\n",
    "    song_id = tokens[1]\n",
    "\n",
    "    if msno in user2cnt and song_id in song2cnt:\n",
    "        train_cnt += 1\n",
    "        train_wf.write(line)\n",
    "print \"Complete to make filtered_train.csv\"\n",
    "print train_cnt"
   ]
  },
  {
   "cell_type": "code",
   "execution_count": 159,
   "metadata": {},
   "outputs": [
    {
     "name": "stdout",
     "output_type": "stream",
     "text": [
      "Complete to make song feature dict\n",
      "Complete to make filtered_songs.csv\n",
      "3005 86174\n"
     ]
    }
   ],
   "source": [
    "song_only = 0\n",
    "with_feature = 0\n",
    "\n",
    "song2comp = {}\n",
    "genre2id = {}\n",
    "artist2id = {}\n",
    "composer2id = {}\n",
    "lyricist2id = {}\n",
    "language2id = {}\n",
    "\n",
    "song_f = open(\"../../dataset/songs.csv\", \"r\")\n",
    "lines = song_f.readlines()\n",
    "#train_wf = open(\"../../dataset/songs.csv\", 'w')\n",
    "\n",
    "for i, line in enumerate(lines):\n",
    "    if i == 0:\n",
    "        #train_wf.write(line)\n",
    "        continue\n",
    "\n",
    "    tokens = line.strip().split(',')\n",
    "    song_id = tokens[0]\n",
    "    genre_id = tokens[2]\n",
    "    artist_name = tokens[3]\n",
    "    composer = tokens[4]\n",
    "    lyricist = tokens[5]\n",
    "    language = tokens[6]\n",
    "    song2comp[song_id] = [genre_id, artist_name, composer, lyricist, language]\n",
    "\n",
    "    if song_id in song2cnt:\n",
    "        song_only += 1\n",
    "        genre2id[genre_id] = len(genre2id)\n",
    "        artist2id[artist_name] = len(artist2id)\n",
    "        composer2id[composer] = len(composer2id)\n",
    "        lyricist2id[lyricist] = len(lyricist2id)\n",
    "        language2id[language] = len(language2id)\n",
    "        #train_wf.write(line)\n",
    "\n",
    "print \"Complete to make song feature dict\"\n",
    "for i, line in enumerate(lines):\n",
    "    if i == 0:\n",
    "        continue\n",
    "        \n",
    "    tokens = line.strip().split(',')\n",
    "    song_id = tokens[0]\n",
    "    genre_id = tokens[2]\n",
    "    artist_name = tokens[3]\n",
    "    composer = tokens[4]\n",
    "    lyricist = tokens[5]\n",
    "    language = tokens[6]\n",
    "    \n",
    "    cov = 0\n",
    "    if genre_id in genre2id:\n",
    "        cov += 1\n",
    "    if artist_name in artist2id:\n",
    "        cov += 1\n",
    "    if composer in composer2id:\n",
    "        cov += 1\n",
    "    if lyricist in lyricist2id:\n",
    "        cov += 1\n",
    "    if language in language2id:\n",
    "        cov += 1\n",
    "    if cov > 4:\n",
    "        with_feature += 1\n",
    "            \n",
    "print \"Complete to make filtered_songs.csv\"\n",
    "print song_only, with_feature"
   ]
  },
  {
   "cell_type": "code",
   "execution_count": 160,
   "metadata": {},
   "outputs": [
    {
     "name": "stdout",
     "output_type": "stream",
     "text": [
      "ddkBkA8RLGf+Xs4OHY5Th0d/UsrNism6qGTbJk6zvyI=\n",
      "qyNvb6FcYM803FBKEdYh7iFLi63FjpepHGkUCD7HB7w=\n",
      "Complete to test.csv\n",
      "1013546 1396347\n"
     ]
    }
   ],
   "source": [
    "song_only = 0\n",
    "with_feature = 0\n",
    "\n",
    "test_f = open(\"../../dataset/test.csv\", \"r\")\n",
    "lines = test_f.readlines()\n",
    "\n",
    "for i, line in enumerate(lines):\n",
    "    if i == 0:\n",
    "        continue\n",
    "\n",
    "    tokens = line.strip().split(',')\n",
    "    song_id = tokens[2]\n",
    "    song_comp = song2comp.get(song_id)\n",
    "    if song_comp is None:\n",
    "        print song_id\n",
    "        continue\n",
    "    genre_id = song_comp[0]\n",
    "    artist_name = song_comp[1]\n",
    "    composer = song_comp[2]\n",
    "    lyricist = song_comp[3]\n",
    "    language = song_comp[4]\n",
    "\n",
    "    if song_id in song2cnt:\n",
    "        song_only += 1\n",
    "    \n",
    "    if genre_id in genre2id:\n",
    "        if artist_name in artist2id:\n",
    "            if composer in composer2id:\n",
    "                if lyricist in lyricist2id:\n",
    "                    if language in language2id:\n",
    "                        with_feature += 1\n",
    "            \n",
    "print \"Complete to test.csv\"\n",
    "print song_only, with_feature"
   ]
  },
  {
   "cell_type": "code",
   "execution_count": null,
   "metadata": {},
   "outputs": [],
   "source": [
    "lines = song_extra_f.readlines()\n",
    "train_wf = open(\"../dataset/filtered_song_extra_info.csv\", 'w')\n",
    "for i, line in enumerate(lines):\n",
    "    if i == 0:\n",
    "        #train_wf.write(line)\n",
    "\n",
    "    tokens = line.strip().split(',')\n",
    "    song_id = tokens[0]\n",
    "\n",
    "    if song_id in song2cnt:\n",
    "        #train_wf.write(line)\n",
    "print \"Complete to make filtered_songs.csv\""
   ]
  },
  {
   "cell_type": "code",
   "execution_count": null,
   "metadata": {},
   "outputs": [],
   "source": [
    "lines = memb_f.readlines()\n",
    "train_wf = open(\"../dataset/filtered_members.csv\", 'w')\n",
    "for i, line in enumerate(lines):\n",
    "    if i == 0:\n",
    "        #train_wf.write(line)\n",
    "\n",
    "    tokens = line.strip().split(',')\n",
    "    msno = tokens[0]\n",
    "\n",
    "    if msno in user2cnt:\n",
    "        #train_wf.write(line)\n",
    "print \"Complete to make filtered_members.csv\""
   ]
  }
 ],
 "metadata": {
  "kernelspec": {
   "display_name": "Python 2",
   "language": "python",
   "name": "python2"
  },
  "language_info": {
   "codemirror_mode": {
    "name": "ipython",
    "version": 2
   },
   "file_extension": ".py",
   "mimetype": "text/x-python",
   "name": "python",
   "nbconvert_exporter": "python",
   "pygments_lexer": "ipython2",
   "version": "2.7.12"
  }
 },
 "nbformat": 4,
 "nbformat_minor": 2
}
